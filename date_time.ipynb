{
 "cells": [
  {
   "cell_type": "markdown",
   "id": "c43d1671",
   "metadata": {},
   "source": [
    "#### The Date & Time\n",
    "\n",
    "Python uses the time and datetime modules to work with time and dates.\n",
    "\n",
    "**What is Epoch?**\n",
    "- Epoch = The starting point of time in computers.\n",
    "- In Python: Jan 1, 1970, 00:00:00 UTC\n",
    "- Time is counted in seconds since the epoch, called \"ticks\"."
   ]
  },
  {
   "cell_type": "code",
   "execution_count": 1,
   "id": "0f7937a9",
   "metadata": {},
   "outputs": [
    {
     "name": "stdout",
     "output_type": "stream",
     "text": [
      "1744548194.8184805\n"
     ]
    }
   ],
   "source": [
    "import time\n",
    "print(time.time())  # Seconds since the epoch (called ticks)"
   ]
  },
  {
   "cell_type": "markdown",
   "id": "ee19e126",
   "metadata": {},
   "source": [
    "**Get Current Time**\n",
    "To translate a time instant from seconds since the epoch floating-point value into a time-tuple, pass the floating-point value to a function (e.g., localtime) that returns a time-tuple with all valid nine items."
   ]
  },
  {
   "cell_type": "code",
   "execution_count": 2,
   "id": "456b59f4",
   "metadata": {},
   "outputs": [
    {
     "name": "stdout",
     "output_type": "stream",
     "text": [
      "time.struct_time(tm_year=2025, tm_mon=4, tm_mday=13, tm_hour=17, tm_min=44, tm_sec=54, tm_wday=6, tm_yday=103, tm_isdst=0)\n",
      "Sun Apr 13 17:44:54 2025\n"
     ]
    }
   ],
   "source": [
    "print(time.localtime())       # Full time details (as a struct)\n",
    "print(time.asctime())         # Human-readable format"
   ]
  },
  {
   "cell_type": "code",
   "execution_count": 3,
   "id": "0a8a6a0d",
   "metadata": {},
   "outputs": [
    {
     "name": "stdout",
     "output_type": "stream",
     "text": [
      "2025-04-13 17:46:03.381390\n"
     ]
    }
   ],
   "source": [
    "# Using datetime\n",
    "from datetime import datetime\n",
    "print(datetime.now())         # Current date & time"
   ]
  },
  {
   "cell_type": "markdown",
   "id": "77906dc4",
   "metadata": {},
   "source": [
    "**Format Date**\n",
    "\n",
    "The datetime object has a method for formatting date objects into readable strings.\n",
    "The method is called strftime(), and takes one parameter, format, to specify the format of the returned string:"
   ]
  },
  {
   "cell_type": "code",
   "execution_count": null,
   "id": "7596a50c",
   "metadata": {},
   "outputs": [],
   "source": [
    "dt = datetime(2025, 1, 1)\n",
    "print(dt.strftime(\"%A\"))      # Day name → Wednesday\n",
    "print(dt.strftime(\"%B\"))      # Month name → January"
   ]
  },
  {
   "cell_type": "markdown",
   "id": "3e5c195e",
   "metadata": {},
   "source": [
    "**Calendar Modul**\n",
    "\n",
    "The calendar module gives a wide range of methods to play with yearly and monthly calendars."
   ]
  },
  {
   "cell_type": "code",
   "execution_count": null,
   "id": "9cf4dbc7",
   "metadata": {},
   "outputs": [],
   "source": [
    "import calendar\n",
    "print(calendar.month(2025, 1))  # Prints Jan 2025 calendar"
   ]
  },
  {
   "cell_type": "markdown",
   "id": "d6aa14de",
   "metadata": {},
   "source": [
    "#### Math Module\n",
    "\n",
    "The math module lets you do math stuff:"
   ]
  },
  {
   "cell_type": "code",
   "execution_count": null,
   "id": "d182e039",
   "metadata": {},
   "outputs": [],
   "source": [
    "import math\n",
    "\n",
    "print(abs(-5))           # 5\n",
    "print(math.sqrt(9))      # 3\n",
    "print(math.pow(2, 3))    # 8\n",
    "print(math.pi)           # 3.14159...\n",
    "print(math.inf)          # Infinity\n",
    "print(math.nan)          # Not a Number"
   ]
  },
  {
   "cell_type": "markdown",
   "id": "f388eec0",
   "metadata": {},
   "source": [
    "**NaN (Not a Number)**\n",
    "\n",
    "Used when a result doesn't make sense (like 0/0 or √-1):"
   ]
  },
  {
   "cell_type": "code",
   "execution_count": null,
   "id": "354728ab",
   "metadata": {},
   "outputs": [],
   "source": [
    "import math\n",
    "\n",
    "x = float('nan')\n",
    "print(math.isnan(x))     # True"
   ]
  },
  {
   "cell_type": "markdown",
   "id": "99207141",
   "metadata": {},
   "source": [
    "**Infinity**\n",
    "\n",
    "In Python, math.inf represents positive infinity, and it is indeed displayed as inf when you print it."
   ]
  },
  {
   "cell_type": "code",
   "execution_count": null,
   "id": "09f08653",
   "metadata": {},
   "outputs": [],
   "source": [
    "import math\n",
    "\n",
    "x = math.inf\n",
    "print(x)                 # inf\n",
    "print(x > 9999999999)    # True\n",
    "print(x - x)             # NaN"
   ]
  }
 ],
 "metadata": {
  "kernelspec": {
   "display_name": "Python 3",
   "language": "python",
   "name": "python3"
  },
  "language_info": {
   "codemirror_mode": {
    "name": "ipython",
    "version": 3
   },
   "file_extension": ".py",
   "mimetype": "text/x-python",
   "name": "python",
   "nbconvert_exporter": "python",
   "pygments_lexer": "ipython3",
   "version": "3.13.2"
  }
 },
 "nbformat": 4,
 "nbformat_minor": 5
}
