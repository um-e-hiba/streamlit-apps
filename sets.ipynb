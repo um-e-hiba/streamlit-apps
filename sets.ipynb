{
 "cells": [
  {
   "cell_type": "markdown",
   "id": "a93e52a7",
   "metadata": {},
   "source": [
    "#### The Set Data Type\n",
    "The set data type in Python is a built-in data structure used to store unordered, unique items. It’s useful when you want to eliminate duplicates or perform operations like union, intersection, and difference.\n",
    "\n",
    "**Key Features of Sets**\n",
    "- Unordered: Items have no index and are not stored in any specific order.\n",
    "- No duplicates: Each element is unique.\n",
    "- Mutable: You can add or remove items, but the elements themselves must be immutable (e.g., numbers, strings, tuples)."
   ]
  },
  {
   "cell_type": "code",
   "execution_count": null,
   "id": "d4f4cdd7",
   "metadata": {},
   "outputs": [],
   "source": [
    "# Creating a Set\n",
    "my_set = {1, 2, 3}\n",
    "print(my_set)  # Output: {1, 2, 3}\n",
    "\n",
    "# You can also use the set() constructor\n",
    "another_set = set([1, 2, 2, 3])\n",
    "print(another_set)  # Output: {1, 2, 3}"
   ]
  },
  {
   "cell_type": "markdown",
   "id": "48fa2f9e",
   "metadata": {},
   "source": [
    "**Common Set Methods**\n",
    "\n",
    "| Method              | Description                                  |\n",
    "|---------------------|----------------------------------------------|\n",
    "| `add(elem)`         | Adds an element to the set                   |\n",
    "| `remove(elem)`      | Removes an element (raises error if missing) |\n",
    "| `discard(elem)`     | Removes an element (no error if missing)     |\n",
    "| `pop()`             | Removes and returns a random element         |\n",
    "| `clear()`           | Empties the set                              |\n",
    "| `union(set2)`       | Combines two sets (also: `|`)                |\n",
    "| `intersection(set2)`| Common elements (also: `&`)                  |\n",
    "| `difference(set2)`  | Elements in set1 not in set2 (also: `-`)     |\n",
    "| `issubset(set2)`    | Checks if set is a subset of set2            |\n",
    "| `issuperset(set2)`  | Checks if set is a superset of set2          |"
   ]
  },
  {
   "cell_type": "code",
   "execution_count": null,
   "id": "a316b46b",
   "metadata": {},
   "outputs": [],
   "source": [
    "a = {1, 2, 3}\n",
    "b = {3, 4, 5}\n",
    "print(a | b)  # Union: {1, 2, 3, 4, 5}\n",
    "print(a & b)  # Intersection: {3}\n",
    "print(a - b)  # Difference: {1, 2}\n",
    "a.add(4)\n",
    "print(a)      # Add {1, 2, 3, 4}\n",
    "a.remove(4)\n",
    "print(a)      # Remove {4}\n",
    "a.pop()\n",
    "print(a)      # Pop {2, 3}\n",
    "a.discard(3)\n",
    "print(a)      # Discard {2}\n",
    "a.clear()\n",
    "print(a)      # Clear set()"
   ]
  }
 ],
 "metadata": {
  "kernelspec": {
   "display_name": "Python 3",
   "language": "python",
   "name": "python3"
  },
  "language_info": {
   "codemirror_mode": {
    "name": "ipython",
    "version": 3
   },
   "file_extension": ".py",
   "mimetype": "text/x-python",
   "name": "python",
   "nbconvert_exporter": "python",
   "pygments_lexer": "ipython3",
   "version": "3.13.2"
  }
 },
 "nbformat": 4,
 "nbformat_minor": 5
}
