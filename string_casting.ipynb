{
 "cells": [
  {
   "cell_type": "markdown",
   "id": "d1a08c3c",
   "metadata": {},
   "source": [
    "### Strings in Python\n",
    "\n",
    "    In Python, a string is a sequence of characters enclosed in quotes\n",
    "    Strings are immutable\n",
    "\n",
    "#### Creating Strings \n",
    "we can create strings by using single,double and triple quotes"
   ]
  },
  {
   "cell_type": "code",
   "execution_count": 76,
   "id": "14d2ab3b",
   "metadata": {},
   "outputs": [
    {
     "name": "stdout",
     "output_type": "stream",
     "text": [
      "my name here.\n",
      "my name here.\n",
      "my \n",
      "name\n",
      "here.\n",
      "\\my \\name \\here\\n.\n"
     ]
    }
   ],
   "source": [
    "my_name: str = 'my name here.'\n",
    "print(my_name)\n",
    "\n",
    "my_name: str = \"my name here.\"\n",
    "print(my_name)\n",
    "\n",
    "my_name: str = '''my \n",
    "name\n",
    "here.''' #for multi line string use triple quotes '''any string'''\n",
    "print(my_name)\n",
    "\n",
    "my_name: str = r'\\my \\name \\here\\n.' # treats backslashes as literal characters\n",
    "print(my_name)\n",
    "\n",
    "# my_name : str = '\\my \\name \\here\\n.' # this will return SyntaxWarning"
   ]
  },
  {
   "cell_type": "markdown",
   "id": "2e06c3ab",
   "metadata": {},
   "source": [
    "#### Escape Sequence Characters in Python\n",
    "To insert characters that are illegal in a string, use an escape character.\n",
    "An escape character is a backslash \\ followed by the character you want to insert.\n",
    "An example of an illegal character is a double quote inside a string that is surrounded by double quotes:\n",
    "\n",
    "Example:\n",
    "print(\"Hello, \\\"World!\\\"\")"
   ]
  },
  {
   "cell_type": "code",
   "execution_count": 77,
   "id": "679be912",
   "metadata": {},
   "outputs": [
    {
     "name": "stdout",
     "output_type": "stream",
     "text": [
      "Hello World!\n",
      "Hello,\tWorld!\n",
      "Hello, \"World!\"\n"
     ]
    }
   ],
   "source": [
    "# Escape Sequence Characters\n",
    "print(\"Hello,\\b World!\") #\\b backspace\n",
    "print(\"Hello,\\tWorld!\")  #\\t tab\n",
    "print(\"Hello, \\\"World!\\\"\")\n",
    "# print(\"Hello,\\ World!\") # this will return SyntaxWarning"
   ]
  },
  {
   "cell_type": "markdown",
   "id": "9ec924cb",
   "metadata": {},
   "source": [
    "#### Performing Differrent Operations on String Object\n",
    "\n",
    "1. Concatenation \n",
    "Concatenation of strings is merging two or more strings into one. There are many ways to achieve it in Python, each with pros and cons and promising use cases.\n",
    "\n",
    "2. Indexing\n",
    "Python strings can be indexed using the same notation as lists, since strings are lists of characters. A single character can be accessed with bracket notation ([index])\n",
    "Indexing with negative numbers counts from the end of the string.\n",
    "\n",
    "3. Slicing\n",
    "Python allows you to extract substrings from a string. This operation is known as slicing."
   ]
  },
  {
   "cell_type": "code",
   "execution_count": 78,
   "id": "6677907f",
   "metadata": {},
   "outputs": [
    {
     "name": "stdout",
     "output_type": "stream",
     "text": [
      "Hello World\n",
      "r\n",
      "r\n",
      "otball\n"
     ]
    }
   ],
   "source": [
    "# CONCATENATION\n",
    "# Define two strings\n",
    "str1 = \"Hello\"\n",
    "str2 = \"World\"\n",
    "\n",
    "# Concatenate using the + operator\n",
    "result = str1 + \" \" + str2\n",
    "\n",
    "# Output the result\n",
    "print(result)\n",
    "\n",
    "# iNDEXING\n",
    "fish = \"Shark\"\n",
    "# Accessing Characters by Positive Index Number\n",
    "print(fish[3])\n",
    "# Accessing Characters by Negative Index Number\n",
    "print(fish[-2])\n",
    "\n",
    "# SLICING\n",
    "sport = \"Football\"\n",
    "# start index:End index\n",
    "print(sport[2:])"
   ]
  },
  {
   "cell_type": "markdown",
   "id": "81697c50",
   "metadata": {},
   "source": [
    "Here are some commonly used string methods:\n",
    "    1. split(): splits a string into a list of substrings based on a delimiter\n",
    "    2. join(): joins a list of strings into a single string\n",
    "    3. replace(): replaces a substring with another substring\n",
    "    4. find(): returns the index of a substring\n",
    "    5. count(): returns the number of occurrences of a substring"
   ]
  },
  {
   "cell_type": "code",
   "execution_count": 79,
   "id": "786a7a0e",
   "metadata": {},
   "outputs": [
    {
     "name": "stdout",
     "output_type": "stream",
     "text": [
      "text.split()    =  ['This', 'is', 'John', 'Doe']\n",
      "text.split(\" \") =  ['This', 'is', 'John', 'Doe']\n",
      "text.split(\"i\") =  ['Th', 's ', 's John Doe']\n"
     ]
    }
   ],
   "source": [
    "# Define a string\n",
    "text: str = 'This is John Doe'\n",
    "\n",
    "# split into a list of words\n",
    "words: str = text.split()\n",
    "print(\"text.split()    = \", words)\n",
    "\n",
    "words = text.split(\" \") # Space as a delimiter\n",
    "print('text.split(\" \") = ',words)\n",
    "\n",
    "words = text.split(\"i\") # Splitting using 'l' as the delimiter\n",
    "print('text.split(\"i\") = ', words)\n",
    "     "
   ]
  },
  {
   "cell_type": "code",
   "execution_count": 80,
   "id": "1bf62c6c",
   "metadata": {},
   "outputs": [
    {
     "name": "stdout",
     "output_type": "stream",
     "text": [
      "Python, Swift, C++\n"
     ]
    }
   ],
   "source": [
    "# Join String\n",
    "string = \", \"\n",
    "languages:str = string.join(['Python', 'Swift', 'C++'])\n",
    "print(languages)"
   ]
  },
  {
   "cell_type": "code",
   "execution_count": 81,
   "id": "d638ce1b",
   "metadata": {},
   "outputs": [
    {
     "name": "stdout",
     "output_type": "stream",
     "text": [
      "Shikwa, Jawab-e-Shikwa, Bang-e-Dara, Zaboor-e-Ajam\n",
      "Shikwa, Jawab-e-Shikwa, Baal-e-Jibril, Zaboor-e-Ajam\n"
     ]
    }
   ],
   "source": [
    "# Replace String\n",
    "book:str = \"Shikwa, Jawab-e-Shikwa, Bang-e-Dara, Zaboor-e-Ajam\"\n",
    "print(book)\n",
    "book = book.replace(\"Bang-e-Dara\", \"Baal-e-Jibril\")\n",
    "print(book)"
   ]
  },
  {
   "cell_type": "code",
   "execution_count": 82,
   "id": "03554818",
   "metadata": {},
   "outputs": [
    {
     "name": "stdout",
     "output_type": "stream",
     "text": [
      "8\n"
     ]
    }
   ],
   "source": [
    "# Find String\n",
    "book:str = \"Shikwa, Jawab-e-Shikwa, Bang-e-Dara, Zaboor-e-Ajam\"\n",
    "# find the index of a substring\n",
    "book = book.find(\"Jawab-e-Shikwa\") # Index value of the first occurance of the word 'Jawab-e-Shikwa'\n",
    "print(book)"
   ]
  },
  {
   "cell_type": "code",
   "execution_count": 83,
   "id": "889742fe",
   "metadata": {},
   "outputs": [
    {
     "name": "stdout",
     "output_type": "stream",
     "text": [
      "4\n"
     ]
    }
   ],
   "source": [
    "# Count \n",
    "fruits: str = \"apple, banana, cherry\"\n",
    "# count the occurrences of a substring\n",
    "fruits = fruits.count(\"a\")\n",
    "print(fruits)\n"
   ]
  },
  {
   "cell_type": "markdown",
   "id": "9e7849f7",
   "metadata": {},
   "source": [
    "#### String Formatting\n",
    "Python provides several ways to format strings:\n",
    "1. % operator: In Python, %s, %d, %c, %f are placeholders for values in a string. They are used with the % operator to insert values into a string.\n",
    "    \n",
    "    **Note**: The % operator is an older way of formatting strings in Python. The newer and more recommended way is to use the str.format() method or f-strings (introduced in Python 3.6). For example:\n",
    "2. str.format(): my_string = 'Hello, {}!'.format('World')\n",
    "3. f-Strings: my_string = f'Hello, {\"World\"}!'"
   ]
  },
  {
   "cell_type": "code",
   "execution_count": 84,
   "id": "5608034e",
   "metadata": {},
   "outputs": [
    {
     "name": "stdout",
     "output_type": "stream",
     "text": [
      "John Doe, a 10th grade student at ABC school, has a roll number of 1009 and scored 95.30% on his exam.\n",
      "John Doe, a 10th grade student at ABC school, has a roll number of 1009 and scored 95.3% on his exam.\n",
      "John Doe, a 10th grade student at ABC school, has a roll number of 1009 and scored 95.3% on his exam.\n"
     ]
    }
   ],
   "source": [
    "# Define Some Strings\n",
    "std_id:int = 1009\n",
    "std_name:str = \"John Doe\"\n",
    "std_percentage:float = 95.3\n",
    "\n",
    "std_details:str = \"%s, a 10th grade student at ABC school, has a roll number of %d and scored %.2f%% on his exam.\"% (std_name, std_id, std_percentage)\n",
    "print(std_details)\n",
    "\n",
    "# using str.format()\n",
    "std_details:str = \"{}, a 10th grade student at ABC school, has a roll number of {} and scored {}% on his exam.\".format(std_name, std_id, std_percentage)\n",
    "print(std_details)\n",
    "\n",
    "# using f-strings\n",
    "std_details:str = f\"{std_name}, a 10th grade student at ABC school, has a roll number of {std_id} and scored {std_percentage}% on his exam.\"\n",
    "print(std_details)"
   ]
  },
  {
   "cell_type": "markdown",
   "id": "344a6336",
   "metadata": {},
   "source": [
    "#### Pool of String Literals in Python\n",
    "In Python, some strings are stored in a special memory area called the string pool.\n",
    "If you create the same string again, Python reuses the old one instead of making a new copy.\n",
    "\n",
    "**What is the Pool of String Literals?**\n",
    "\n",
    "It’s an internal cache (or pool) where Python stores certain immutable strings. When you create a string literal, Python may store it in this pool, and if you create another string with the same value, Python can reuse the same object instead of creating a new one.\n"
   ]
  },
  {
   "cell_type": "code",
   "execution_count": 85,
   "id": "8a362658",
   "metadata": {},
   "outputs": [
    {
     "name": "stdout",
     "output_type": "stream",
     "text": [
      "True\n"
     ]
    }
   ],
   "source": [
    "a = \"hello\"\n",
    "b = \"hello\"\n",
    "print(a is b)  # True"
   ]
  },
  {
   "cell_type": "markdown",
   "id": "48b3f18d",
   "metadata": {},
   "source": [
    "#### Interning in Python\n",
    "Interning is a process where Python stores only one copy of identical immutable strings to save memory and boost performance.\n",
    "\n",
    "**Why Intern Strings?**\n",
    "- Saves memory 📦\n",
    "- Makes comparisons faster ⚡ (is instead of ==)"
   ]
  },
  {
   "cell_type": "code",
   "execution_count": 86,
   "id": "227fba93",
   "metadata": {},
   "outputs": [
    {
     "name": "stdout",
     "output_type": "stream",
     "text": [
      "True\n"
     ]
    }
   ],
   "source": [
    "# Not All Strings Are Interned Automatically\n",
    "# You can manually intern a string using the sys.intern() function.\n",
    "import sys\n",
    "\n",
    "x = sys.intern(\"hello world\")\n",
    "y = sys.intern(\"hello world\")\n",
    "\n",
    "print(x is y)  # True ✅ Forced to use the same object"
   ]
  },
  {
   "cell_type": "markdown",
   "id": "ab09747d",
   "metadata": {},
   "source": [
    "#### Type Casting in Python\n",
    "\n",
    "**What is Type Casting in Python?**\n",
    "\n",
    "Type casting (or type conversion) is the process of converting the value of one data type into another. It’s essential when you're working with mixed data types, like adding a number to a string that contains a number.\n",
    "\n",
    "Python supports two types of type casting:\n",
    "1. Implicit Type Casting: This happens automatically when Python converts a smaller data type to a larger data type to avoid data loss.\n",
    "2. Explicit Type Casting: This is done manually using type conversion functions. You decide how and what to convert."
   ]
  },
  {
   "cell_type": "code",
   "execution_count": 87,
   "id": "800aa619",
   "metadata": {},
   "outputs": [
    {
     "name": "stdout",
     "output_type": "stream",
     "text": [
      "7.5\n",
      "<class 'float'>\n"
     ]
    }
   ],
   "source": [
    "# Implicit Type Casting (Automatic Conversion)\n",
    "a = 5       # int\n",
    "b = 2.5     # float\n",
    "\n",
    "result = a + b\n",
    "print(result)         # 7.5\n",
    "print(type(result))   # <class 'float'>"
   ]
  },
  {
   "cell_type": "markdown",
   "id": "002701ce",
   "metadata": {},
   "source": [
    "**Explicit Type Casting**\n",
    "\n",
    "Common type casting functions:\n",
    "1. int()    Converts to integer\n",
    "2. float()\tConverts to float\n",
    "3. str()\tConverts to string\n",
    "4. bool()\tConverts to boolean\n",
    "5. list()\tConverts to list\n",
    "6. tuple()\tConverts to tuple\n",
    "7. set()\tConverts to set"
   ]
  },
  {
   "cell_type": "code",
   "execution_count": null,
   "id": "d6a8f159",
   "metadata": {},
   "outputs": [],
   "source": [
    "# String to Integer\n",
    "num_str = \"100\"\n",
    "num_int = int(num_str)\n",
    "print(num_int + 50)   # 150"
   ]
  },
  {
   "cell_type": "code",
   "execution_count": null,
   "id": "4de2907b",
   "metadata": {},
   "outputs": [],
   "source": [
    "# Float to Integer (Loses Decimal)\n",
    "f = 3.9\n",
    "print(int(f))    # 3"
   ]
  },
  {
   "cell_type": "code",
   "execution_count": null,
   "id": "db80f420",
   "metadata": {},
   "outputs": [],
   "source": [
    "# Integer to String\n",
    "age = 25\n",
    "print(\"I am \" + str(age) + \" years old.\")  # I am 25 years old."
   ]
  },
  {
   "cell_type": "code",
   "execution_count": null,
   "id": "4c1c72a8",
   "metadata": {},
   "outputs": [],
   "source": [
    "# Boolean Conversion\n",
    "print(bool(0))        # False\n",
    "print(bool(42))       # True\n",
    "print(bool(\"\"))       # False\n",
    "print(bool(\"Hello\"))  # True"
   ]
  },
  {
   "cell_type": "code",
   "execution_count": null,
   "id": "1a40bafb",
   "metadata": {},
   "outputs": [],
   "source": [
    "# Converting a non-numeric string to int or float will raise a ValueError.\n",
    "int(\"hello\")  # ValueError"
   ]
  },
  {
   "cell_type": "markdown",
   "id": "6330e439",
   "metadata": {},
   "source": [
    "#### Advanced Type Casting Examples\n",
    "\n",
    "Converting Between Collection Types"
   ]
  },
  {
   "cell_type": "code",
   "execution_count": null,
   "id": "29a611c7",
   "metadata": {},
   "outputs": [],
   "source": [
    "# List to Set (Remove Duplicates)\n",
    "numbers = [1, 2, 2, 3, 4]\n",
    "unique_numbers = set(numbers)\n",
    "print(unique_numbers)  # {1, 2, 3, 4}"
   ]
  },
  {
   "cell_type": "code",
   "execution_count": null,
   "id": "853707b4",
   "metadata": {},
   "outputs": [],
   "source": [
    "# Set to List\n",
    "num_set = {10, 20, 30}\n",
    "num_list = list(num_set)\n",
    "print(num_list)  # [10, 20, 30]"
   ]
  },
  {
   "cell_type": "code",
   "execution_count": null,
   "id": "c7c7ab37",
   "metadata": {},
   "outputs": [],
   "source": [
    "# String to List (Each character becomes an item)\n",
    "text = \"hello\"\n",
    "char_list = list(text)\n",
    "print(char_list)  # ['h', 'e', 'l', 'l', 'o']"
   ]
  },
  {
   "cell_type": "code",
   "execution_count": null,
   "id": "24fea7c8",
   "metadata": {},
   "outputs": [],
   "source": [
    "# List of Strings to List of Integers\n",
    "str_numbers = [\"1\", \"2\", \"3\"]\n",
    "int_numbers = [int(num) for num in str_numbers]\n",
    "print(int_numbers)  # [1, 2, 3]"
   ]
  }
 ],
 "metadata": {
  "kernelspec": {
   "display_name": "Python 3",
   "language": "python",
   "name": "python3"
  },
  "language_info": {
   "codemirror_mode": {
    "name": "ipython",
    "version": 3
   },
   "file_extension": ".py",
   "mimetype": "text/x-python",
   "name": "python",
   "nbconvert_exporter": "python",
   "pygments_lexer": "ipython3",
   "version": "3.13.2"
  }
 },
 "nbformat": 4,
 "nbformat_minor": 5
}
