{
 "cells": [
  {
   "cell_type": "markdown",
   "id": "d1a08c3c",
   "metadata": {},
   "source": [
    "Strings in Python\n",
    "\n",
    "In Python, a string is a sequence of characters enclosed in quotes\n",
    "Strings are immutable\n",
    "\n",
    "Creating Strings \n",
    "\n",
    "we can create strings by using single,double and triple quotes"
   ]
  },
  {
   "cell_type": "code",
   "execution_count": null,
   "id": "14d2ab3b",
   "metadata": {},
   "outputs": [],
   "source": [
    "my_name: str = 'my name here.'\n",
    "print(my_name)\n",
    "\n",
    "my_name: str = \"my name here.\"\n",
    "print(my_name)\n",
    "\n",
    "my_name: str = '''my \n",
    "name\n",
    "here.''' #for multi line string use triple quotes '''any string'''\n",
    "print(my_name)\n",
    "\n",
    "my_name: str = r'\\my \\name \\here\\n.' # treats backslashes as literal characters\n",
    "print(my_name)\n",
    "\n",
    "#my_name : str = '\\my \\name \\here\\n.'\n",
    "# this will return an error"
   ]
  },
  {
   "cell_type": "code",
   "execution_count": 6,
   "id": "679be912",
   "metadata": {},
   "outputs": [
    {
     "name": "stdout",
     "output_type": "stream",
     "text": [
      "Hello World!\n",
      "Hello,\tWorld!\n",
      "Hello, \"World!\"\n",
      "Hello,\\ World!\n"
     ]
    },
    {
     "name": "stderr",
     "output_type": "stream",
     "text": [
      "<>:5: SyntaxWarning: invalid escape sequence '\\ '\n",
      "<>:5: SyntaxWarning: invalid escape sequence '\\ '\n",
      "C:\\Users\\hiba\\AppData\\Local\\Temp\\ipykernel_9764\\4251052355.py:5: SyntaxWarning: invalid escape sequence '\\ '\n",
      "  print(\"Hello,\\ World!\")\n"
     ]
    }
   ],
   "source": [
    "# Escape Sequence Characters\n",
    "print(\"Hello,\\b World!\") #\\b backspace\n",
    "print(\"Hello,\\tWorld!\")  #\\t tab\n",
    "print(\"Hello, \\\"World!\\\"\")\n",
    "print(\"Hello,\\ World!\")"
   ]
  }
 ],
 "metadata": {
  "kernelspec": {
   "display_name": "Python 3",
   "language": "python",
   "name": "python3"
  },
  "language_info": {
   "codemirror_mode": {
    "name": "ipython",
    "version": 3
   },
   "file_extension": ".py",
   "mimetype": "text/x-python",
   "name": "python",
   "nbconvert_exporter": "python",
   "pygments_lexer": "ipython3",
   "version": "3.13.2"
  }
 },
 "nbformat": 4,
 "nbformat_minor": 5
}
