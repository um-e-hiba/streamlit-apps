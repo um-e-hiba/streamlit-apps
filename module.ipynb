{
 "cells": [
  {
   "cell_type": "markdown",
   "id": "68905fea",
   "metadata": {},
   "source": [
    "#### What is a Module in Python?\n",
    "In Python, a module is simply a file containing Python code — it can include functions, classes, and variables, as well as runnable code. The purpose of a module is to organize code into manageable, reusable pieces.\n",
    "\n",
    "- A module is a .py file.\n",
    "- You can import a module into other Python programs using the import statement.\n",
    "- This helps in avoiding code repetition and keeping the project clean."
   ]
  },
  {
   "cell_type": "code",
   "execution_count": null,
   "id": "f696db83",
   "metadata": {},
   "outputs": [],
   "source": [
    "# math_utils.py\n",
    "def add(a, b):\n",
    "    return a + b\n",
    "\n",
    "def subtract(a, b):\n",
    "    return a - b"
   ]
  },
  {
   "cell_type": "markdown",
   "id": "2fca4475",
   "metadata": {},
   "source": [
    "You can import and use it in another script:"
   ]
  },
  {
   "cell_type": "code",
   "execution_count": null,
   "id": "e9a896da",
   "metadata": {},
   "outputs": [],
   "source": [
    "# main.py\n",
    "import math_utils\n",
    "\n",
    "print(math_utils.add(5, 3))       # Output: 8\n",
    "print(math_utils.subtract(10, 4)) # Output: 6"
   ]
  },
  {
   "cell_type": "markdown",
   "id": "5f3f799d",
   "metadata": {},
   "source": [
    "##### Types of Modules:\n",
    "1. Built-in Modules\n",
    "These come pre-installed with Python. You don't need to install or write them yourself."
   ]
  },
  {
   "cell_type": "code",
   "execution_count": null,
   "id": "2a947fd7",
   "metadata": {},
   "outputs": [],
   "source": [
    "import math\n",
    "\n",
    "print(math.sqrt(16))      # Output: 4.0\n",
    "print(math.pi)            # Output: 3.141592653589793"
   ]
  },
  {
   "cell_type": "markdown",
   "id": "b35aefb3",
   "metadata": {},
   "source": [
    "2. User-defined Modules\n",
    "These are Python files you write yourself to reuse code across multiple programs."
   ]
  },
  {
   "cell_type": "code",
   "execution_count": null,
   "id": "b31ddcfd",
   "metadata": {},
   "outputs": [],
   "source": [
    "# Create a file my_module.py\n",
    "# my_module.py\n",
    "def greet(name):\n",
    "    return f\"Hello, {name}!\"\n",
    "\n",
    "def square(num):\n",
    "    return num * num"
   ]
  },
  {
   "cell_type": "code",
   "execution_count": null,
   "id": "ab307c41",
   "metadata": {},
   "outputs": [],
   "source": [
    "# Use it in another Python file\n",
    "# main.py\n",
    "import my_module\n",
    "\n",
    "print(my_module.greet(\"Alice\"))   # Output: Hello, Alice!\n",
    "print(my_module.square(5))        # Output: 25"
   ]
  },
  {
   "cell_type": "markdown",
   "id": "f382eab9",
   "metadata": {},
   "source": [
    "3. Third-party Modules\n",
    "These are created by the community and need to be installed (usually via pip)."
   ]
  },
  {
   "cell_type": "code",
   "execution_count": null,
   "id": "2e53b784",
   "metadata": {},
   "outputs": [],
   "source": [
    "# Using requests module\n",
    "# First, install it:\n",
    "pip install requests\n",
    "\n",
    "#Then use it:\n",
    "import requests\n",
    "\n",
    "response = requests.get(\"https://api.github.com\")\n",
    "print(response.status_code)       # Output: 200"
   ]
  },
  {
   "cell_type": "markdown",
   "id": "36dc82bd",
   "metadata": {},
   "source": [
    "#### What is a Function in Python?\n",
    "A function is a block of reusable code that performs a specific task.\n",
    "\n",
    "**Why use functions?**\n",
    "- Avoid repetition\n",
    "- Keep your code organized and clean\n",
    "- Make programs easier to read and maintain"
   ]
  },
  {
   "cell_type": "code",
   "execution_count": null,
   "id": "dfb431b6",
   "metadata": {},
   "outputs": [],
   "source": [
    "# Basic Syntax of a Function\n",
    "def function_name(parameters):\n",
    "    # code block\n",
    "    return result"
   ]
  },
  {
   "cell_type": "code",
   "execution_count": 2,
   "id": "8807eee7",
   "metadata": {},
   "outputs": [
    {
     "name": "stdout",
     "output_type": "stream",
     "text": [
      "Hello, World!\n"
     ]
    }
   ],
   "source": [
    "# Simple Function Without Parameters\n",
    "def say_hello():\n",
    "    print(\"Hello, World!\")\n",
    "\n",
    "say_hello()  # Output: Hello, World!"
   ]
  },
  {
   "cell_type": "code",
   "execution_count": null,
   "id": "a667812c",
   "metadata": {},
   "outputs": [],
   "source": [
    "# Function With Parameters\n",
    "def greet(name):\n",
    "    print(f\"Hello, {name}!\")\n",
    "\n",
    "greet(\"sana\")  # Output: Hello, Sana!"
   ]
  },
  {
   "cell_type": "code",
   "execution_count": null,
   "id": "9df0d868",
   "metadata": {},
   "outputs": [],
   "source": [
    "# Function With Return Value\n",
    "def add(a, b):\n",
    "    return a + b\n",
    "\n",
    "result = add(5, 3)\n",
    "print(result)  # Output: 8"
   ]
  },
  {
   "cell_type": "code",
   "execution_count": null,
   "id": "1ad641bd",
   "metadata": {},
   "outputs": [],
   "source": [
    "# Function With Default Parameters\n",
    "def greet(name=\"Guest\"):\n",
    "    print(f\"Hello, {name}!\")\n",
    "\n",
    "greet()           # Output: Hello, Guest!\n",
    "greet(\"Bob\")      # Output: Hello, Bob!"
   ]
  },
  {
   "cell_type": "code",
   "execution_count": null,
   "id": "bd40c99a",
   "metadata": {},
   "outputs": [],
   "source": [
    "# Function With Multiple Return Values\n",
    "def get_stats(a, b):\n",
    "    return a + b, a * b\n",
    "\n",
    "sum_result, product_result = get_stats(3, 4)\n",
    "print(sum_result)      # Output: 7\n",
    "print(product_result)  # Output: 12\n"
   ]
  }
 ],
 "metadata": {
  "kernelspec": {
   "display_name": "Python 3",
   "language": "python",
   "name": "python3"
  },
  "language_info": {
   "codemirror_mode": {
    "name": "ipython",
    "version": 3
   },
   "file_extension": ".py",
   "mimetype": "text/x-python",
   "name": "python",
   "nbconvert_exporter": "python",
   "pygments_lexer": "ipython3",
   "version": "3.13.2"
  }
 },
 "nbformat": 4,
 "nbformat_minor": 5
}
