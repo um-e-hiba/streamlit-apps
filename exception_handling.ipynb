{
 "cells": [
  {
   "cell_type": "markdown",
   "id": "89746b1f",
   "metadata": {},
   "source": [
    "#### Exception Handling with try, except, else, and finally\n",
    "Exception handling in Python provides a structured way to manage errors and ensure specific blocks of code run depending on what happens during execution. Here's how each part works:\n",
    "\n",
    "##### Importance of Exception Handling in Python\n",
    "Exception handling is super important in Python—and in programming in general—because it makes your code more reliable, user-friendly, and easier to debug."
   ]
  },
  {
   "cell_type": "markdown",
   "id": "b549c6d5",
   "metadata": {},
   "source": [
    "**Prevents Program Crashes**\n",
    "Without exception handling, any unexpected error can cause your whole program to crash. With it, you can catch and handle errors gracefully, keeping your program running."
   ]
  },
  {
   "cell_type": "code",
   "execution_count": null,
   "id": "7b00bbe7",
   "metadata": {},
   "outputs": [],
   "source": [
    "# Without exception handling:\n",
    "x = 10 / 0  # 💥 ZeroDivisionError crashes the program"
   ]
  },
  {
   "cell_type": "code",
   "execution_count": null,
   "id": "6ad3e770",
   "metadata": {},
   "outputs": [],
   "source": [
    "\n",
    "# With exception handling:\n",
    "try:\n",
    "    x = 10 / 0\n",
    "except ZeroDivisionError:\n",
    "    print(\"Oops! Can't divide by zero.\")"
   ]
  },
  {
   "cell_type": "markdown",
   "id": "cb7e41a6",
   "metadata": {},
   "source": [
    "**Makes Debugging Easier**\n",
    "When an error is caught, Python can give descriptive messages, and you can log information to understand what went wrong and where."
   ]
  },
  {
   "cell_type": "markdown",
   "id": "9360659e",
   "metadata": {},
   "source": [
    "**Improves User Experience**\n",
    "Instead of showing a scary error message to users, you can display friendly messages or provide alternatives."
   ]
  },
  {
   "cell_type": "code",
   "execution_count": null,
   "id": "fcf46500",
   "metadata": {},
   "outputs": [],
   "source": [
    "try:\n",
    "    user_input = int(input(\"Enter a number: \"))\n",
    "except ValueError:\n",
    "    print(\"That doesn't look like a number. Try again!\")"
   ]
  },
  {
   "cell_type": "markdown",
   "id": "26dea39b",
   "metadata": {},
   "source": [
    "**Supports Cleanup Tasks**\n",
    "Using finally, you can ensure resources like files or database connections are properly closed, no matter what happens."
   ]
  },
  {
   "cell_type": "code",
   "execution_count": null,
   "id": "7013eceb",
   "metadata": {},
   "outputs": [],
   "source": [
    "try:\n",
    "    f = open(\"data.txt\", \"r\")\n",
    "    content = f.read()\n",
    "except FileNotFoundError:\n",
    "    print(\"File not found!\")\n",
    "finally:\n",
    "    f.close()"
   ]
  },
  {
   "cell_type": "markdown",
   "id": "8c8e0e4b",
   "metadata": {},
   "source": [
    "**Encourages Robust Code Structure**\n",
    "By thinking about what might go wrong, you naturally write better-designed, more predictable code."
   ]
  },
  {
   "cell_type": "markdown",
   "id": "9c1eb516",
   "metadata": {},
   "source": [
    "**The try Block in Python**\n",
    "\n",
    "The try block is the starting point of exception handling in Python. It tells the program:\n",
    "*Hey, try to run this code, but if something goes wrong, we’ll deal with it gracefully.*"
   ]
  },
  {
   "cell_type": "code",
   "execution_count": null,
   "id": "bccff1eb",
   "metadata": {},
   "outputs": [],
   "source": [
    "try:\n",
    "    # risky code goes here\n",
    "    result = 10 / 0\n",
    "except ZeroDivisionError:\n",
    "    print(\"You can't divide by zero.\")"
   ]
  },
  {
   "cell_type": "markdown",
   "id": "718169f0",
   "metadata": {},
   "source": [
    "**The except Block**\n",
    "\n",
    "The except block is where you handle the errors that occur in the try block. It’s like saying:\n",
    "*If something goes wrong, here’s what to do instead of crashing the program.*"
   ]
  },
  {
   "cell_type": "code",
   "execution_count": null,
   "id": "0a0e10e0",
   "metadata": {},
   "outputs": [],
   "source": [
    "try:\n",
    "    num = int(input(\"Enter a number: \"))\n",
    "except ValueError:\n",
    "    print(\"That's not a valid number!\")"
   ]
  },
  {
   "cell_type": "markdown",
   "id": "d4486f9b",
   "metadata": {},
   "source": [
    "**The else Block**\n",
    "\n",
    "The else block is like saying:\n",
    "*If everything goes smoothly in the try block and no exception is raised, then do this next.*\n",
    "\n",
    "- Runs only if no exception occurs in the try block.\n",
    "- Keeps your code cleaner and more readable by separating the “happy path” logic from error-handling logic."
   ]
  },
  {
   "cell_type": "code",
   "execution_count": null,
   "id": "c5878577",
   "metadata": {},
   "outputs": [],
   "source": [
    "try:\n",
    "    x = int(input(\"Enter a number: \"))\n",
    "except ValueError:\n",
    "    print(\"Invalid input!\")\n",
    "else:\n",
    "    print(f\"You entered {x}, good job!\")"
   ]
  },
  {
   "cell_type": "markdown",
   "id": "37623c47",
   "metadata": {},
   "source": [
    "**The finally Block**\n",
    "\n",
    "The finally block is the part of exception handling that says:\n",
    "*No matter what happens—error or not—this code will always run.*\n",
    "\n",
    "- Used for clean-up tasks: closing files, releasing resources, disconnecting from a network, etc.\n",
    "- It always executes, whether an exception was raised or not, and even if there’s a return or break."
   ]
  },
  {
   "cell_type": "code",
   "execution_count": null,
   "id": "f93f08ff",
   "metadata": {},
   "outputs": [],
   "source": [
    "try:\n",
    "    # code that might raise an exception\n",
    "    result = 10 / 2\n",
    "except ZeroDivisionError:\n",
    "    print(\"You can't divide by zero.\")\n",
    "finally:\n",
    "    print(\"This will always run.\")"
   ]
  },
  {
   "cell_type": "markdown",
   "id": "08354a24",
   "metadata": {},
   "source": [
    "**Putting It All Together: try, except, else, and finally in One Example**\n",
    "\n",
    "Let’s see how all the parts of Python exception handling work together in a complete, real-world-like scenario."
   ]
  },
  {
   "cell_type": "code",
   "execution_count": null,
   "id": "92f28775",
   "metadata": {},
   "outputs": [],
   "source": [
    "def safe_divide():\n",
    "    try:\n",
    "        num1 = float(input(\"Enter numerator: \"))\n",
    "        num2 = float(input(\"Enter denominator: \"))\n",
    "        result = num1 / num2\n",
    "    except ValueError:\n",
    "        print(\"❌ Please enter valid numbers.\")\n",
    "    except ZeroDivisionError:\n",
    "        print(\"❌ Cannot divide by zero.\")\n",
    "    else:\n",
    "        print(f\"✅ Result: {result}\")\n",
    "    finally:\n",
    "        print(\"🔁 Operation complete. Thanks for using the calculator.\\n\")\n",
    "\n",
    "# Try it out:\n",
    "safe_divide()"
   ]
  }
 ],
 "metadata": {
  "kernelspec": {
   "display_name": "Python 3",
   "language": "python",
   "name": "python3"
  },
  "language_info": {
   "codemirror_mode": {
    "name": "ipython",
    "version": 3
   },
   "file_extension": ".py",
   "mimetype": "text/x-python",
   "name": "python",
   "nbconvert_exporter": "python",
   "pygments_lexer": "ipython3",
   "version": "3.13.2"
  }
 },
 "nbformat": 4,
 "nbformat_minor": 5
}
