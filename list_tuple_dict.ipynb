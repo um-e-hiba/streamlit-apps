{
 "cells": [
  {
   "cell_type": "markdown",
   "id": "3cd86a2c",
   "metadata": {},
   "source": [
    "#### Working with Lists and Tuples\n",
    "Python provides powerful sequence types: lists and tuples. These data structures help store and manage collections of data efficiently.\n",
    "\n",
    "1. Lists in Python\n",
    "A list is a mutable (changeable) sequence of elements. You can add, remove, or change items."
   ]
  },
  {
   "cell_type": "code",
   "execution_count": 1,
   "id": "ec5aef9c",
   "metadata": {},
   "outputs": [],
   "source": [
    "# Creating a List\n",
    "fruits = [\"apple\", \"banana\", \"cherry\"]"
   ]
  },
  {
   "cell_type": "code",
   "execution_count": null,
   "id": "8b6c060f",
   "metadata": {},
   "outputs": [],
   "source": [
    "# Common List Operations\n",
    "# Access\n",
    "print(fruits[1])  # banana\n",
    "\n",
    "# Add\n",
    "fruits.append(\"orange\")  # ['apple', 'banana', 'cherry', 'orange']\n",
    "\n",
    "# Insert\n",
    "fruits.insert(1, \"kiwi\")  # ['apple', 'kiwi', 'banana', 'cherry', 'orange']\n",
    "\n",
    "# Remove\n",
    "fruits.remove(\"banana\")  # ['apple', 'kiwi', 'cherry', 'orange']\n",
    "\n",
    "# Update\n",
    "fruits[0] = \"mango\"  # ['mango', 'kiwi', 'cherry', 'orange']\n",
    "\n",
    "# Length\n",
    "len(fruits)\n",
    "\n",
    "# Iterating Over List (Loop)\n",
    "for fruit in fruits:\n",
    "    print(fruit)\n",
    "\n",
    "# Sort\n",
    "fruits.sort()"
   ]
  },
  {
   "cell_type": "markdown",
   "id": "97c760b4",
   "metadata": {},
   "source": [
    "2. Tuples in Python\n",
    "A tuple is an immutable sequence. Once created, you can’t change its contents."
   ]
  },
  {
   "cell_type": "code",
   "execution_count": 3,
   "id": "d0ad85e5",
   "metadata": {},
   "outputs": [],
   "source": [
    "# Creating a Tuple\n",
    "colors = (\"red\", \"green\", \"blue\")"
   ]
  },
  {
   "cell_type": "code",
   "execution_count": null,
   "id": "bb2a18c8",
   "metadata": {},
   "outputs": [],
   "source": [
    "# Common Tuple Operations\n",
    "# Access\n",
    "print(colors[0])  # red\n",
    "\n",
    "# Length\n",
    "print(len(colors))  # 3\n",
    "\n",
    "# Loop\n",
    "for color in colors:\n",
    "    print(color)\n",
    "\n",
    "# Tuple unpacking\n",
    "r, g, b = colors\n",
    "print(r, g, b)  # red green blue"
   ]
  },
  {
   "cell_type": "markdown",
   "id": "62cf3233",
   "metadata": {},
   "source": [
    "#### Dictionaries in Python\n",
    "A dictionary is an unordered, mutable collection of key-value pairs. It lets you quickly access data using a key."
   ]
  },
  {
   "cell_type": "code",
   "execution_count": null,
   "id": "efeb7ab0",
   "metadata": {},
   "outputs": [],
   "source": [
    "# Creating a Dictionary\n",
    "student = {\n",
    "    \"name\": \"Alice\",\n",
    "    \"age\": 22,\n",
    "    \"major\": \"Computer Science\"\n",
    "}"
   ]
  },
  {
   "cell_type": "code",
   "execution_count": null,
   "id": "56a3ff67",
   "metadata": {},
   "outputs": [],
   "source": [
    "# Accessing Values\n",
    "print(student[\"name\"])  # Alice\n",
    "# To avoid errors when a key might not exist\n",
    "print(student.get(\"gpa\", \"Not available\"))  # Not available"
   ]
  },
  {
   "cell_type": "code",
   "execution_count": null,
   "id": "481c0ef1",
   "metadata": {},
   "outputs": [],
   "source": [
    "# Adding or Updating Values\n",
    "student[\"gpa\"] = 3.9  # Adds new key-value pair\n",
    "student[\"age\"] = 23   # Updates existing key"
   ]
  },
  {
   "cell_type": "code",
   "execution_count": null,
   "id": "83520a2c",
   "metadata": {},
   "outputs": [],
   "source": [
    "# Removing Items\n",
    "del student[\"major\"]        # Removes the key 'major'\n",
    "student.pop(\"gpa\")          # Removes and returns 'gpa'\n",
    "student.clear()             # Clears the entire dictionary"
   ]
  },
  {
   "cell_type": "code",
   "execution_count": null,
   "id": "adf9a3b8",
   "metadata": {},
   "outputs": [],
   "source": [
    "# Dictionary Methods\n",
    "# Check if key exists\n",
    "if \"name\" in student:\n",
    "    print(\"Name exists\")\n",
    "\n",
    "# Get all keys/values/items\n",
    "student.keys()\n",
    "student.values()\n",
    "student.items()"
   ]
  },
  {
   "cell_type": "code",
   "execution_count": null,
   "id": "a5c7503a",
   "metadata": {},
   "outputs": [],
   "source": [
    "# Looping Through a Dictionary\n",
    "# Keys\n",
    "for key in student:\n",
    "    print(key)\n",
    "\n",
    "# Values\n",
    "for value in student.values():\n",
    "    print(value)\n",
    "\n",
    "# Key-Value Pairs\n",
    "for key, value in student.items():\n",
    "    print(f\"{key}: {value}\")\n"
   ]
  },
  {
   "cell_type": "markdown",
   "id": "98ed7236",
   "metadata": {},
   "source": [
    "**Use Cases for Dictionaries:**\n",
    "1. Storing data like records (e.g., a user profile)\n",
    "2. Lookup tables (e.g., word count, config settings)\n",
    "3. JSON-style data (like API responses)"
   ]
  },
  {
   "cell_type": "code",
   "execution_count": null,
   "id": "7e0ac02d",
   "metadata": {},
   "outputs": [],
   "source": [
    "# Example: Word Counter\n",
    "text = \"hello world hello\"\n",
    "word_count = {}\n",
    "\n",
    "for word in text.split():\n",
    "    word_count[word] = word_count.get(word, 0) + 1\n",
    "\n",
    "print(word_count)  # {'hello': 2, 'world': 1}"
   ]
  },
  {
   "cell_type": "markdown",
   "id": "3239f9e6",
   "metadata": {},
   "source": [
    "##### Nested Dictionaries\n",
    "\n",
    "**What is a Nested Dictionary?**\n",
    "A nested dictionary is just a dictionary where values can also be dictionaries.\n"
   ]
  },
  {
   "cell_type": "code",
   "execution_count": null,
   "id": "dcff3a6e",
   "metadata": {},
   "outputs": [],
   "source": [
    "# Basic Example\n",
    "students = {\n",
    "    \"student1\": {\n",
    "        \"name\": \"Alice\",\n",
    "        \"age\": 22,\n",
    "        \"major\": \"Computer Science\"\n",
    "    },\n",
    "    \"student2\": {\n",
    "        \"name\": \"Bob\",\n",
    "        \"age\": 24,\n",
    "        \"major\": \"Mathematics\"\n",
    "    }\n",
    "}"
   ]
  },
  {
   "cell_type": "code",
   "execution_count": null,
   "id": "02f00283",
   "metadata": {},
   "outputs": [],
   "source": [
    "# Accessing Nested Values\n",
    "print(students[\"student1\"][\"name\"])  # Alice\n",
    "print(students[\"student2\"][\"major\"])  # Mathematics\n",
    "\n",
    "#  Updating Nested Values \n",
    "students[\"student1\"][\"age\"] = 23\n",
    "students[\"student2\"].update({\"gpa\": 3.8})\n",
    "\n",
    "# Adding a New Nested Dictionary\n",
    "students[\"student3\"] = {\n",
    "    \"name\": \"Charlie\",\n",
    "    \"age\": 21,\n",
    "    \"major\": \"Physics\"\n",
    "}\n",
    "\n",
    "# Deleting from Nested Dictionary\n",
    "del students[\"student1\"][\"major\"]  # Removes the 'major' from student1\n",
    "del students[\"student2\"]           # Removes student2 entirely\n",
    "\n",
    "# Looping Through Nested Dictionaries\n",
    "for student_id, details in students.items():\n",
    "    print(f\"ID: {student_id}\")\n",
    "    for key, value in details.items():\n",
    "        print(f\"  {key}: {value}\")\n"
   ]
  }
 ],
 "metadata": {
  "kernelspec": {
   "display_name": "Python 3",
   "language": "python",
   "name": "python3"
  },
  "language_info": {
   "codemirror_mode": {
    "name": "ipython",
    "version": 3
   },
   "file_extension": ".py",
   "mimetype": "text/x-python",
   "name": "python",
   "nbconvert_exporter": "python",
   "pygments_lexer": "ipython3",
   "version": "3.13.2"
  }
 },
 "nbformat": 4,
 "nbformat_minor": 5
}
