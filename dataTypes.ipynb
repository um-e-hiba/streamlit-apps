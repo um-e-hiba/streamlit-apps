{
 "cells": [
  {
   "cell_type": "markdown",
   "id": "0f321e8c",
   "metadata": {},
   "source": [
    "#DataTypes in Python#\n",
    "-> Numaric\n",
    "-> Sequence \n",
    "-> Boolean\n",
    "-> Dictionary\n",
    "-> Set"
   ]
  },
  {
   "cell_type": "markdown",
   "id": "4a73c811",
   "metadata": {},
   "source": [
    "Numaric Types\n",
    "-> Integer (int)\n",
    "-> Floating Point (float)\n",
    "-> Complex Number (complex)"
   ]
  },
  {
   "cell_type": "code",
   "execution_count": null,
   "id": "c6adfcdd",
   "metadata": {},
   "outputs": [],
   "source": [
    "# Integer -> whole numbers. (without decimal)\n",
    "num_int: int = 7\n",
    "\n",
    "print(\"Datatype of 'num_int' is \",type(num_int), \"\\nValue of 'num_int' is = \", num_int)"
   ]
  },
  {
   "cell_type": "code",
   "execution_count": null,
   "id": "95cc10a9",
   "metadata": {},
   "outputs": [],
   "source": [
    "# Floating Point -> numbers with decimal points.\n",
    "num_float: float = 7.77\n",
    "\n",
    "print(\"Datatyps of 'num_float' is \", type(num_float), \"\\nValue of 'num_float' is \", num_float)"
   ]
  },
  {
   "cell_type": "code",
   "execution_count": null,
   "id": "0309e082",
   "metadata": {},
   "outputs": [],
   "source": [
    "# Complex -> numbers with a real and imaginary part.\n",
    "num_complex: complex = 8+7j\n",
    "\n",
    "print(\"Datatyps of 'num_complex' is \", type(num_complex), \"\\nValue of 'num_complex' is \", num_complex)\n",
    "\n",
    "# Accessing real and imaginary parts\n",
    "\n",
    "print(\"Real Part: \", num_complex.real)\n",
    "print(\"Imaginar Part\", num_complex.imag)"
   ]
  },
  {
   "cell_type": "markdown",
   "id": "ff22366a",
   "metadata": {},
   "source": [
    "Sequence Types\n",
    "-> String (str)\n",
    "-> List (list)\n",
    "-> Tuple (tuple)\n",
    "-> Range (range)"
   ]
  },
  {
   "cell_type": "code",
   "execution_count": null,
   "id": "71bde945",
   "metadata": {},
   "outputs": [],
   "source": [
    "# String -> a sequence of characters enclosed in quotes.\n",
    "\n",
    "text_double: str  = \"Hello World, Python!\" # Strings with Double Quotes (\")\n",
    "text_single: str  = 'Hello World, Python!' # Strings with Single Quotes (')\n",
    "text_multi: str   = '''Hello World, Python\"s!''' # Multi-Line Strings with Triple Quotes (''' or \"\"\")\n",
    "text_multi_1: str = \"\"\"Hello World, Python's!\"\"\" # Multi-Line Strings with Triple Quotes (''' or \"\"\")\n",
    "\n",
    "print(type(text_double), \" text_double = \", text_double) \n",
    "print(type(text_single), \" text_single = \", text_single) \n",
    "print(type(text_multi), \" text_multi = \", text_multi) \n",
    "print(type(text_multi_1), \" text_multi_1 = \", text_multi_1)"
   ]
  },
  {
   "cell_type": "code",
   "execution_count": null,
   "id": "8e3511bf",
   "metadata": {},
   "outputs": [],
   "source": [
    "# List -> an ordered, mutable collection.\n",
    "my_list_1:int = [1,2,3,\"string\", 4.5, True]\n",
    "my_list:list = [1,2,3, \"Python\", 4.5, 6+7j]\n",
    "\n",
    "print(type(my_list_1), 'First List = ', my_list_1)\n",
    "print(type(my_list), 'Second List', my_list)"
   ]
  },
  {
   "cell_type": "code",
   "execution_count": null,
   "id": "e7ab39be",
   "metadata": {},
   "outputs": [],
   "source": [
    "# Tuple -> an ordered, immutable collection.\n",
    "my_tuple: tuple = (1 , 2, 3, \"AI\", 4.5, False, .6, 7+8j)\n",
    "\n",
    "print(\"Unmutable List with datatype\", type(my_tuple), \"\\n\", my_tuple)"
   ]
  },
  {
   "cell_type": "code",
   "execution_count": null,
   "id": "bfa7d976",
   "metadata": {},
   "outputs": [],
   "source": [
    "# Range -> represents a sequence of numbers.\n",
    "num_range: range = range(1,10,2) # range(start, stop, step)\n",
    "\n",
    "print(type(num_range), 'num_range', num_range.step)\n",
    "\n",
    "for i in range(1,10,2):\n",
    "    print(i)"
   ]
  },
  {
   "cell_type": "markdown",
   "id": "d909f3bb",
   "metadata": {},
   "source": [
    "Boolean\n",
    "-> Boolean (bool) represents True or False"
   ]
  },
  {
   "cell_type": "code",
   "execution_count": null,
   "id": "97a1e2e3",
   "metadata": {},
   "outputs": [],
   "source": [
    "is_python_fun : bool = True #False   case-sensitive\n",
    "\n",
    "print(type(is_python_fun), 'is python a fun language \"', is_python_fun, '\"')"
   ]
  },
  {
   "cell_type": "markdown",
   "id": "85a7c9f3",
   "metadata": {},
   "source": [
    "Dictionary "
   ]
  },
  {
   "cell_type": "code",
   "execution_count": null,
   "id": "0d4ada89",
   "metadata": {},
   "outputs": [],
   "source": [
    "# Mapping Type -> dictionary (dict) Stores key-value pairs.\n",
    "my_dict: dict = {\"name\": \"Ali\", \"Age\": 25, \"Language\": \"Python\"}\n",
    "\n",
    "print(type(my_dict),\" my_dict = \", my_dict )"
   ]
  },
  {
   "cell_type": "markdown",
   "id": "a2f3abfd",
   "metadata": {},
   "source": [
    "Set Types\n",
    "-> Set (set)\n",
    "-> Frozen Set (frozenset)"
   ]
  },
  {
   "cell_type": "code",
   "execution_count": null,
   "id": "01c2275f",
   "metadata": {},
   "outputs": [],
   "source": [
    "# Set -> mutable, unordered, and containce unique values.\n",
    "my_set: set = {1,2,33,4,4,5}\n",
    "\n",
    "print(type(my_set), \"my_set\", my_set)"
   ]
  },
  {
   "cell_type": "code",
   "execution_count": null,
   "id": "1bfceb81",
   "metadata": {},
   "outputs": [],
   "source": [
    "# Frozen Set -> immutable version of a set.\n",
    "frozen_set = frozenset([11, 2, 3, 4, 4, 5]) # also sort while print\n",
    "#frozen_set_2 = frozenset([\"Banana\", \"Apple\", \"Mango\", \"Pineapple\", \"Kiwi\"])\n",
    "print(type(frozen_set), \"Frozen Set\", frozen_set)"
   ]
  },
  {
   "cell_type": "markdown",
   "id": "682d8910",
   "metadata": {},
   "source": [
    "Binary Types\n",
    "-> Bytes (bytes)\n",
    "-> Bytesarray (bytearray)"
   ]
  },
  {
   "cell_type": "code",
   "execution_count": 39,
   "id": "ba586fcf",
   "metadata": {},
   "outputs": [
    {
     "name": "stdout",
     "output_type": "stream",
     "text": [
      "<class 'bytes'> Byte data b'hello'\n"
     ]
    }
   ],
   "source": [
    "# Bytes -> an immutable sequence of bytes , Literal syntax: b\"...\" or b'...'\n",
    "byte_data: bytes = b\"hello\"\n",
    "\n",
    "print(type(byte_data), \"Byte data\", byte_data)"
   ]
  }
 ],
 "metadata": {
  "kernelspec": {
   "display_name": "Python 3",
   "language": "python",
   "name": "python3"
  },
  "language_info": {
   "codemirror_mode": {
    "name": "ipython",
    "version": 3
   },
   "file_extension": ".py",
   "mimetype": "text/x-python",
   "name": "python",
   "nbconvert_exporter": "python",
   "pygments_lexer": "ipython3",
   "version": "3.13.2"
  }
 },
 "nbformat": 4,
 "nbformat_minor": 5
}
