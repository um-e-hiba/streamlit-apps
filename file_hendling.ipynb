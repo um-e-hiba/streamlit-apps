{
 "cells": [
  {
   "cell_type": "markdown",
   "id": "83d81dc6",
   "metadata": {},
   "source": [
    "#### File Handling in Python: A Comprehensive Tutorial with Examples\n",
    "\n",
    "File handling is an essential part of programming. Python offers built-in functions and methods to work with files, allowing you to create, read, write, and delete them efficiently."
   ]
  },
  {
   "cell_type": "markdown",
   "id": "b77363a5",
   "metadata": {},
   "source": [
    "1. Opening a File\n",
    "\n",
    "Python uses the open() function to open a file.\n",
    "\n",
    "- 'r'\tRead (default). File must exist.\n",
    "- 'w'\tWrite. Creates file if not exists, truncates if it does.\n",
    "- 'a'\tAppend. Adds data to end of file.\n",
    "- 'x'\tCreate. Fails if file exists.\n",
    "- 'b'\tBinary mode. Use with other modes like 'rb' or 'wb'.\n",
    "- 't'\tText mode (default)."
   ]
  },
  {
   "cell_type": "markdown",
   "id": "ab00d966",
   "metadata": {},
   "source": [
    "**Reading from a File**\n",
    "\n",
    "a) read()\n",
    "Reads entire content."
   ]
  },
  {
   "cell_type": "code",
   "execution_count": null,
   "id": "314edf18",
   "metadata": {
    "vscode": {
     "languageId": "plaintext"
    }
   },
   "outputs": [],
   "source": [
    "with open(\"example.txt\", \"r\") as file:\n",
    "    content = file.read()\n",
    "    print(content)"
   ]
  },
  {
   "cell_type": "markdown",
   "id": "a35b1b1b",
   "metadata": {},
   "source": [
    "b) readline()\n",
    "Reads one line at a time."
   ]
  },
  {
   "cell_type": "code",
   "execution_count": null,
   "id": "68e6568f",
   "metadata": {
    "vscode": {
     "languageId": "plaintext"
    }
   },
   "outputs": [],
   "source": [
    "with open(\"example.txt\", \"r\") as file:\n",
    "    line = file.readline()\n",
    "    print(line)"
   ]
  },
  {
   "cell_type": "markdown",
   "id": "e53a807d",
   "metadata": {},
   "source": [
    "c) readlines()\n",
    "Reads all lines into a list."
   ]
  },
  {
   "cell_type": "code",
   "execution_count": null,
   "id": "16791929",
   "metadata": {
    "vscode": {
     "languageId": "plaintext"
    }
   },
   "outputs": [],
   "source": [
    "with open(\"example.txt\", \"r\") as file:\n",
    "    lines = file.readlines()\n",
    "    for line in lines:\n",
    "        print(line.strip())"
   ]
  },
  {
   "cell_type": "markdown",
   "id": "299c2112",
   "metadata": {},
   "source": [
    "**Writing to a File**\n",
    "\n",
    "a) write()"
   ]
  },
  {
   "cell_type": "code",
   "execution_count": null,
   "id": "2d3688e3",
   "metadata": {
    "vscode": {
     "languageId": "plaintext"
    }
   },
   "outputs": [],
   "source": [
    "with open(\"output.txt\", \"w\") as file:\n",
    "    file.write(\"Hello, world!\\n\")\n",
    "    file.write(\"Writing to a file in Python.\")\n",
    "# Note: 'w' mode overwrites existing content."
   ]
  },
  {
   "cell_type": "markdown",
   "id": "5dabf24d",
   "metadata": {},
   "source": [
    "b) writelines()"
   ]
  },
  {
   "cell_type": "code",
   "execution_count": null,
   "id": "9dd1388b",
   "metadata": {
    "vscode": {
     "languageId": "plaintext"
    }
   },
   "outputs": [],
   "source": [
    "lines = [\"Line 1\\n\", \"Line 2\\n\", \"Line 3\\n\"]\n",
    "with open(\"output.txt\", \"w\") as file:\n",
    "    file.writelines(lines)"
   ]
  },
  {
   "cell_type": "markdown",
   "id": "09591aa5",
   "metadata": {},
   "source": [
    "**Appending to a File**"
   ]
  },
  {
   "cell_type": "code",
   "execution_count": null,
   "id": "725ef1ee",
   "metadata": {
    "vscode": {
     "languageId": "plaintext"
    }
   },
   "outputs": [],
   "source": [
    "with open(\"output.txt\", \"a\") as file:\n",
    "    file.write(\"\\nThis is an appended line.\")"
   ]
  },
  {
   "cell_type": "markdown",
   "id": "9f482e0b",
   "metadata": {},
   "source": [
    "**Closing a File**\n",
    "\n",
    "If you're not using with, close files manually:"
   ]
  },
  {
   "cell_type": "code",
   "execution_count": null,
   "id": "cae9b0db",
   "metadata": {
    "vscode": {
     "languageId": "plaintext"
    }
   },
   "outputs": [],
   "source": [
    "file = open(\"example.txt\", \"r\")\n",
    "# ... do something ...\n",
    "file.close()\n",
    "\n",
    "# with open(...) is preferred as it handles closing automatically."
   ]
  },
  {
   "cell_type": "markdown",
   "id": "621dd326",
   "metadata": {},
   "source": [
    "**File Pointer Control**\n",
    "\n",
    "seek(offset) - Move pointer"
   ]
  },
  {
   "cell_type": "code",
   "execution_count": null,
   "id": "fd2b9486",
   "metadata": {
    "vscode": {
     "languageId": "plaintext"
    }
   },
   "outputs": [],
   "source": [
    "with open(\"example.txt\", \"r\") as file:\n",
    "    file.seek(5)\n",
    "    print(file.read())"
   ]
  },
  {
   "cell_type": "markdown",
   "id": "7e6fcca4",
   "metadata": {},
   "source": [
    "tell() - Current position"
   ]
  },
  {
   "cell_type": "code",
   "execution_count": null,
   "id": "fa11d78a",
   "metadata": {
    "vscode": {
     "languageId": "plaintext"
    }
   },
   "outputs": [],
   "source": [
    "with open(\"example.txt\", \"r\") as file:\n",
    "    print(file.tell())"
   ]
  },
  {
   "cell_type": "markdown",
   "id": "32d9bfbd",
   "metadata": {},
   "source": [
    "**Deleting a File**\n",
    "\n",
    "Use the os module:"
   ]
  },
  {
   "cell_type": "code",
   "execution_count": null,
   "id": "f1a63c43",
   "metadata": {
    "vscode": {
     "languageId": "plaintext"
    }
   },
   "outputs": [],
   "source": [
    "import os\n",
    "\n",
    "if os.path.exists(\"example.txt\"):\n",
    "    os.remove(\"example.txt\")\n",
    "else:\n",
    "    print(\"File does not exist.\")"
   ]
  },
  {
   "cell_type": "markdown",
   "id": "de88d5a7",
   "metadata": {},
   "source": [
    "**Working with Directories**"
   ]
  },
  {
   "cell_type": "code",
   "execution_count": null,
   "id": "fd8e6753",
   "metadata": {
    "vscode": {
     "languageId": "plaintext"
    }
   },
   "outputs": [],
   "source": [
    "import os\n",
    "\n",
    "# Create a directory\n",
    "os.mkdir(\"new_folder\")\n",
    "\n",
    "# List files/directories\n",
    "print(os.listdir(\".\"))\n",
    "\n",
    "# Remove directory\n",
    "os.rmdir(\"new_folder\")\n"
   ]
  },
  {
   "cell_type": "markdown",
   "id": "0c4ff684",
   "metadata": {},
   "source": [
    "**Copy Contents from One File to Another**"
   ]
  },
  {
   "cell_type": "code",
   "execution_count": null,
   "id": "ae6e7dad",
   "metadata": {},
   "outputs": [],
   "source": [
    "with open(\"source.txt\", \"r\") as src, open(\"dest.txt\", \"w\") as dst:\n",
    "    for line in src:\n",
    "        dst.write(line)"
   ]
  }
 ],
 "metadata": {
  "language_info": {
   "name": "python"
  }
 },
 "nbformat": 4,
 "nbformat_minor": 5
}
