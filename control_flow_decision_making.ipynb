{
 "cells": [
  {
   "cell_type": "markdown",
   "id": "e454ffb3",
   "metadata": {},
   "source": [
    "#### Control Flow and Decision Making in Python\n",
    "Control flow allows you to control the execution of your program. It lets you make decisions, repeat actions, and manage how your program behaves depending on certain conditions.\n",
    "\n",
    "**Core Building Blocks**\n",
    "\n",
    "1. if, elif, else — Conditional statements\n",
    "2. Loops: for, while\n",
    "3. break, continue, pass — Loop control tools\n",
    "4. match (Python 3.10+) — Structural pattern matching (like switch)\n"
   ]
  },
  {
   "cell_type": "markdown",
   "id": "8e501d7e",
   "metadata": {},
   "source": [
    "1. ##### Conditional Statements (if, elif, else)\n",
    "    Syntax:\n",
    "        if condition:\n",
    "            # block of code\n",
    "        elif another_condition:\n",
    "            # another block\n",
    "        else:\n",
    "            # fallback block"
   ]
  },
  {
   "cell_type": "code",
   "execution_count": null,
   "id": "d9599e0b",
   "metadata": {},
   "outputs": [],
   "source": [
    "age = 18\n",
    "\n",
    "if age >= 18:\n",
    "    print(\"You're an adult.\")\n",
    "elif age > 12:\n",
    "    print(\"You're a teenager.\")\n",
    "else:\n",
    "    print(\"You're a child.\")"
   ]
  },
  {
   "cell_type": "markdown",
   "id": "03365f30",
   "metadata": {},
   "source": [
    "**Logical Operators in Conditions**\n",
    "1. and — all conditions must be true\n",
    "2. or — at least one condition must be true\n",
    "3. not — reverses the condition"
   ]
  },
  {
   "cell_type": "code",
   "execution_count": null,
   "id": "e76e79ae",
   "metadata": {},
   "outputs": [],
   "source": [
    "x = 5\n",
    "y = 10\n",
    "\n",
    "if x > 0 and y > 0:\n",
    "    print(\"Both are positive.\")"
   ]
  },
  {
   "cell_type": "markdown",
   "id": "2e247878",
   "metadata": {},
   "source": [
    "2. ##### Loops\n",
    "for loop — Iterate over a sequence"
   ]
  },
  {
   "cell_type": "code",
   "execution_count": null,
   "id": "461c66e9",
   "metadata": {},
   "outputs": [],
   "source": [
    "fruits = [\"apple\", \"banana\", \"cherry\"]\n",
    "for fruit in fruits:\n",
    "    print(fruit)"
   ]
  },
  {
   "cell_type": "markdown",
   "id": "f41ed8ee",
   "metadata": {},
   "source": [
    "while loop — Repeat as long as a condition is true"
   ]
  },
  {
   "cell_type": "code",
   "execution_count": null,
   "id": "3ea4cd8a",
   "metadata": {},
   "outputs": [],
   "source": [
    "count = 0\n",
    "while count < 3:\n",
    "    print(\"Counting:\", count)\n",
    "    count += 1"
   ]
  },
  {
   "cell_type": "markdown",
   "id": "9cf7884b",
   "metadata": {},
   "source": [
    "3. ##### Loop Control Statements\n",
    "break — Exit loop early"
   ]
  },
  {
   "cell_type": "code",
   "execution_count": null,
   "id": "c5791d0e",
   "metadata": {},
   "outputs": [],
   "source": [
    "for i in range(5):\n",
    "    if i == 3:\n",
    "        break\n",
    "    print(i)"
   ]
  },
  {
   "cell_type": "markdown",
   "id": "77974b3d",
   "metadata": {},
   "source": [
    "continue — Skip current iteration"
   ]
  },
  {
   "cell_type": "code",
   "execution_count": null,
   "id": "85d1dc46",
   "metadata": {},
   "outputs": [],
   "source": [
    "for i in range(5):\n",
    "    if i == 2:\n",
    "        continue\n",
    "    print(i)"
   ]
  },
  {
   "cell_type": "markdown",
   "id": "67e9c139",
   "metadata": {},
   "source": [
    "pass — Do nothing (placeholder)"
   ]
  },
  {
   "cell_type": "code",
   "execution_count": 9,
   "id": "980b2c5c",
   "metadata": {},
   "outputs": [],
   "source": [
    "for i in range(5):\n",
    "    pass  # will be implemented later"
   ]
  },
  {
   "cell_type": "markdown",
   "id": "ab7fb28f",
   "metadata": {},
   "source": [
    "4. ##### Match Statement (Like Switch - Python 3.10+)\n",
    "Python introduced the match-case statement in Python 3.10 as a way to implement structural pattern matching, which provides a cleaner and more readable alternative to traditional if-elif-else chains."
   ]
  },
  {
   "cell_type": "code",
   "execution_count": 10,
   "id": "3b596841",
   "metadata": {},
   "outputs": [
    {
     "name": "stdout",
     "output_type": "stream",
     "text": [
      "Not Found\n"
     ]
    }
   ],
   "source": [
    "status = 404\n",
    "\n",
    "match status:\n",
    "    case 200:\n",
    "        print(\"OK\")\n",
    "    case 404:\n",
    "        print(\"Not Found\")\n",
    "    case _:\n",
    "        print(\"Unknown Error\")"
   ]
  },
  {
   "cell_type": "markdown",
   "id": "3d44c1a1",
   "metadata": {},
   "source": [
    "**Nested Conditions and Loops**\n",
    "1. Nested if Statements\n",
    "    Checking multiple layers of conditions inside each other."
   ]
  },
  {
   "cell_type": "code",
   "execution_count": null,
   "id": "9d81b0ed",
   "metadata": {},
   "outputs": [],
   "source": [
    "age = 20\n",
    "citizen = True\n",
    "\n",
    "if age >= 18:\n",
    "    if citizen:\n",
    "        print(\"You are eligible to vote.\")\n",
    "    else:\n",
    "        print(\"You must be a citizen to vote.\")\n",
    "else:\n",
    "    print(\"You must be at least 18 to vote.\")"
   ]
  },
  {
   "cell_type": "markdown",
   "id": "90fd8055",
   "metadata": {},
   "source": [
    "2. Nested Loops\n",
    "    Use a loop inside another loop — common in grids, combinations, etc."
   ]
  },
  {
   "cell_type": "code",
   "execution_count": null,
   "id": "3e1615ce",
   "metadata": {},
   "outputs": [],
   "source": [
    "for i in range(1, 4):       # Outer loop\n",
    "    for j in range(1, 4):   # Inner loop\n",
    "        print(f\"{i} x {j} = {i * j}\")\n",
    "    print(\"-----\")  # Separator after each row"
   ]
  },
  {
   "cell_type": "markdown",
   "id": "bbeb3a77",
   "metadata": {},
   "source": [
    "3. Nested if + Loops Inside Each Other\n",
    "    Now we combine both: loop inside a loop and conditionals inside the loop."
   ]
  },
  {
   "cell_type": "code",
   "execution_count": null,
   "id": "bd97a1de",
   "metadata": {},
   "outputs": [],
   "source": [
    "for i in range(1, 11):             # Outer loop: 1 to 10\n",
    "    if i % 2 == 0:                 # Check if even\n",
    "        if i % 3 == 0:             # Check if divisible by 3\n",
    "            print(f\"{i} is even and divisible by 3\")\n",
    "        else:\n",
    "            print(f\"{i} is even but not divisible by 3\")\n",
    "    else:\n",
    "        print(f\"{i} is odd\")"
   ]
  },
  {
   "cell_type": "markdown",
   "id": "579a62ad",
   "metadata": {},
   "source": [
    "Or another way: Loop in loop + conditional"
   ]
  },
  {
   "cell_type": "code",
   "execution_count": null,
   "id": "d15615fd",
   "metadata": {},
   "outputs": [],
   "source": [
    "for i in range(1, 4):               # Outer loop\n",
    "    for j in range(1, 4):           # Inner loop\n",
    "        if (i + j) % 2 == 0:\n",
    "            print(f\"{i}+{j}={i+j} is even\")\n",
    "        else:\n",
    "            print(f\"{i}+{j}={i+j} is odd\")"
   ]
  }
 ],
 "metadata": {
  "kernelspec": {
   "display_name": "Python 3",
   "language": "python",
   "name": "python3"
  },
  "language_info": {
   "codemirror_mode": {
    "name": "ipython",
    "version": 3
   },
   "file_extension": ".py",
   "mimetype": "text/x-python",
   "name": "python",
   "nbconvert_exporter": "python",
   "pygments_lexer": "ipython3",
   "version": "3.13.2"
  }
 },
 "nbformat": 4,
 "nbformat_minor": 5
}
